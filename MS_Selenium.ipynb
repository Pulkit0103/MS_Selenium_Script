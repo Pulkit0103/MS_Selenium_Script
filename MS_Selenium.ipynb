{
 "cells": [
  {
   "cell_type": "code",
   "execution_count": 16,
   "metadata": {},
   "outputs": [],
   "source": [
    "# Setting up Initial Library Requirements\n",
    "from selenium import webdriver\n",
    "from selenium.webdriver.chrome.service import Service\n",
    "from webdriver_manager.chrome import ChromeDriverManager\n",
    "from selenium.webdriver.common.by import By\n",
    "import time"
   ]
  },
  {
   "cell_type": "code",
   "execution_count": 17,
   "metadata": {},
   "outputs": [],
   "source": [
    "# Adding options to download the PDF  File in our system not Just Open the PDF in the browser \n",
    "options = webdriver.ChromeOptions()\n",
    "\n",
    "options.add_experimental_option('prefs',{\n",
    "    \"download.default_directory\" : \"C:\\\\Users\\\\Pulkit\\\\Dropbox\\\\My PC (LAPTOP-42NKDJRG)\\\\Downloads\\\\Ms SPICE IN\\\\data\",\n",
    "    'download.prompt_for_download': False,\n",
    "    'plugins.always_open_pdf_externally': True\n",
    "})"
   ]
  },
  {
   "cell_type": "code",
   "execution_count": 18,
   "metadata": {},
   "outputs": [],
   "source": [
    "# Providing the Path of the Website from which I need to download the PDFs from\n",
    "\n",
    "# Here, I have provided the Exact location for the Folder \n",
    "# But we can also Provide the Home Page link and using XPATH shift to the Same Folder as Depicted below also\n",
    "\n",
    "driver = webdriver.Chrome(service=Service(ChromeDriverManager().install()), options=options)\n",
    "URL = \"https://files.thapar.edu/?dir=NAAC2024/1.3.3/InternshipCertificates\"\n",
    "driver.get(URL)\n",
    "\n",
    "# Maximizing the window so that the Path Layout remains same\n",
    "driver.maximize_window()\n",
    "\n",
    "# Waiting in case our Internet is slow and Website loads Late\n",
    "driver.implicitly_wait(5)\n",
    "\n",
    "# Finding all the a tags first\n",
    "all_a_tags = driver.find_elements(By.XPATH , \"//a\")\n",
    "count = 0\n",
    "\n",
    "# Then moving on to the desired 'a Tag' getting clicked\n",
    "for a in all_a_tags:\n",
    "    if a.get_attribute('href') and '.pdf' in a.get_attribute('href'):\n",
    "        a.click()\n",
    "        driver.implicitly_wait(5)\n",
    "\n",
    "# Keeping a count as I don't want to many download all the PDFs rn only\n",
    "        count += 1\n",
    "        if count >= 5:\n",
    "            break\n"
   ]
  },
  {
   "cell_type": "code",
   "execution_count": 13,
   "metadata": {},
   "outputs": [],
   "source": [
    "# This code provides the PDF on the basis of the time Listed on the Website\n",
    "# There is one thing on which the code is getting stuck is getting the inline divs whic can be solved\n",
    "# -------------> But will take a little more time than expected\n",
    "\n",
    "# from datetime import datetime\n",
    "# links_with_time = []\n",
    "\n",
    "# for a_tag in all_a_tags:\n",
    "#     link = a_tag.get_attribute('href')\n",
    "#     if link and '.pdf' in link:\n",
    "#         main_div = a_tag.find_element(By.XPATH, \".//div[@class='w-full']\")\n",
    "#         div_with_time = main_div.find_element(By.XPATH, \".//div[@class='w-1/4']\")\n",
    "#         time_text = div_with_time.text.strip()\n",
    "#         links_with_time.append((link, time_text))\n",
    "\n",
    "# # Sort the links based on the extracted time\n",
    "# sorted_links = sorted(links_with_time, key=lambda x: datetime.strptime(x[1], \"%Y-%m-%d %H:%M:%S\"), reverse=True)\n",
    "\n",
    "# # Click on the link associated with the latest PDF\n",
    "# latest_pdf_link, latest_time = sorted_links[0] if sorted_links else (None, None)\n",
    "\n",
    "# if latest_pdf_link:\n",
    "#     print(f\"Latest PDF link: {latest_pdf_link}\")\n",
    "#     print(f\"Time: {latest_time}\")\n",
    "#     driver.get(latest_pdf_link)\n",
    "#     time.sleep(5)  \n",
    "# else:\n",
    "#     print(\"No PDF links found on the page.\")"
   ]
  },
  {
   "cell_type": "code",
   "execution_count": 14,
   "metadata": {},
   "outputs": [],
   "source": [
    "# directory_link = driver.find_element_by_css_selector(\"a[href='https://files.thapar.edu/dir=NAAC2024/']\")\n",
    "# directory_link.click()"
   ]
  },
  {
   "cell_type": "code",
   "execution_count": null,
   "metadata": {},
   "outputs": [],
   "source": [
    "driver.close()"
   ]
  }
 ],
 "metadata": {
  "kernelspec": {
   "display_name": "Python 3",
   "language": "python",
   "name": "python3"
  },
  "language_info": {
   "codemirror_mode": {
    "name": "ipython",
    "version": 3
   },
   "file_extension": ".py",
   "mimetype": "text/x-python",
   "name": "python",
   "nbconvert_exporter": "python",
   "pygments_lexer": "ipython3",
   "version": "3.11.1"
  }
 },
 "nbformat": 4,
 "nbformat_minor": 2
}
